{
  "cells": [
    {
      "cell_type": "markdown",
      "metadata": {
        "id": "view-in-github",
        "colab_type": "text"
      },
      "source": [
        "<a href=\"https://colab.research.google.com/github/roksess99/SQLinColob/blob/main/Eindopdracht_Data_mDDB_24_25.ipynb\" target=\"_parent\"><img src=\"https://colab.research.google.com/assets/colab-badge.svg\" alt=\"Open In Colab\"/></a>"
      ]
    },
    {
      "cell_type": "markdown",
      "metadata": {
        "id": "M5B9TSJrUUfh"
      },
      "source": [
        "# Eindopdracht Business Discipline Data"
      ],
      "id": "M5B9TSJrUUfh"
    },
    {
      "cell_type": "markdown",
      "metadata": {
        "tags": [],
        "id": "O0DUCQsVUUfj"
      },
      "source": [
        "## Algemene informatie\n",
        "\n",
        "**Inleveren**: Het uitgewerkte Jupyter Notebook (het .ipynb bestand) lever je **20 oktober 23:59** via **GRADEWORK** in. Let op dat je echt een .ipynb bestand inlevert. Zet jullie namen onderaan in het Notebook. Je levert als groepje één notebook in."
      ],
      "id": "O0DUCQsVUUfj"
    },
    {
      "cell_type": "markdown",
      "metadata": {
        "id": "KF5o5-C8UUfq"
      },
      "source": [
        "## De opdracht"
      ],
      "id": "KF5o5-C8UUfq"
    },
    {
      "cell_type": "markdown",
      "metadata": {
        "id": "nHf5vHR8UUfq"
      },
      "source": [
        "Deze eindopdracht bestaat uit **16 deelopdrachten**. Iedere deelopdracht heeft een uitleg.\n",
        "\n",
        "**Wat belangrijke informatie:**\n",
        "\n",
        "*     In **deelopdracht 1** bedenken jullie een casus, daar bouwen de verdere deelopdrachten op door. Lees dus eerst alle opdrachten door.\n",
        "\n",
        "*     In **deelopdracht 2** bedenken julie (minstens) twee gerelateerde tabellen met data bij jullie casus. Ook daar bouwen de verdere deelopdrachten op door. Kies goed, en pas als het beter werkt je tabellen gaandeweg nog aan.\n",
        "\n",
        "*     Als er **\"[CODE]\"** in de titel van de deelopdracht staat moet je (ook) een stukje Python of SQL code aanleveren. Let op dat de code werkt zonder errors (syntax fouten), anders kan je nog maar halve punten halen voor die opdracht.\n",
        "\n",
        "*     Onder iedere vraag of opdracht is een lege cel om het antwoord in te geven, je mag daar zo veel cellen als je wilt aan toevoegen, maar pas niets aan in cellen die al gevuld zijn tenzij dat er expliciet staat.\n",
        "\n",
        "*     Hou het simpel, de casus is maar een kapstok, het gaat om de principes van Python/SQL/BI/Data(science).\n",
        "\n",
        "*     Succes!"
      ],
      "id": "nHf5vHR8UUfq"
    },
    {
      "cell_type": "markdown",
      "metadata": {
        "id": "8vPS1HrxUUfr"
      },
      "source": [
        "### Dit is het notebook van de studenten:"
      ],
      "id": "8vPS1HrxUUfr"
    },
    {
      "cell_type": "markdown",
      "metadata": {
        "id": "XZzZUn3mUUfr"
      },
      "source": [
        "*...[vul hier een naam in]...*"
      ],
      "id": "XZzZUn3mUUfr"
    },
    {
      "cell_type": "markdown",
      "metadata": {
        "id": "DZnFT66vUUfr"
      },
      "source": [
        "*...[vul hier een naam in]...*"
      ],
      "id": "DZnFT66vUUfr"
    },
    {
      "cell_type": "markdown",
      "metadata": {
        "id": "wayKm0S9UUfr"
      },
      "source": [
        "*...[vul hier een naam in]...*"
      ],
      "id": "wayKm0S9UUfr"
    },
    {
      "cell_type": "markdown",
      "source": [
        "*...[vul hier een naam in]...*"
      ],
      "metadata": {
        "id": "tQiIiQ_4Ry6S"
      },
      "id": "tQiIiQ_4Ry6S"
    },
    {
      "cell_type": "markdown",
      "metadata": {
        "tags": [],
        "id": "3WrLh-c2UUft"
      },
      "source": [
        "## Opdracht 1: Beschrijf jullie casus (max 300 woorden)\n",
        "\n",
        "*    Beschrijf een (fictieve) casus waarbij een bedrijf/organisatie data verzamelt waar mogelijk businessvragen mee te beantwoorden zijn. Geef ook een indicatie (met minstens één concreet voorbeeld) bij welke processen de data zouden kunnen helpen om inzicht te krijgen in aspecten die relevant zijn voor besluitvorming.\n",
        "\n",
        "*    Beschrijf in wat voor vormen data voorhanden is (gestructureerd, semi-gestructureerd, ongestructureerd). Geef minsten van één soort data aan waarom het onder een van die drie categorieën valt. *(In de verdere opdracht gaan we verder uit van data in tabellen.)*\n",
        "\n",
        "*    Beschrijf welke hindernissen jullie organisatie mogelijk zou hebben ervaren in het (goed) beschikbaar krijgen en/of effectief inzetten van die data. Noem hierbij hoe (in wat voor systemen) de data waarschijnlijk opgeslagen is.\n"
      ],
      "id": "3WrLh-c2UUft"
    },
    {
      "cell_type": "markdown",
      "metadata": {
        "id": "qbts84ABUUft"
      },
      "source": [
        "*... [Vul hier jullie antwoord(en) in] ...*"
      ],
      "id": "qbts84ABUUft"
    },
    {
      "cell_type": "markdown",
      "metadata": {
        "tags": [],
        "id": "M4owMzy4UUft"
      },
      "source": [
        "## Opdracht 2: Datatabellen aanleveren [CODE]\n",
        "\n",
        "Op basis van de casus van opdracht 1 gaan jullie (minstens) twee tabellen aanleveren.\n",
        "\n",
        "Dit doe je door iedere kolom in te voeren als een python list. Een tabel bestaat uit meerdere kolommen. Zie het voorbeeld in de code-cel hieronder."
      ],
      "id": "M4owMzy4UUft"
    },
    {
      "cell_type": "code",
      "execution_count": null,
      "metadata": {
        "id": "mHg9FMtnUUft"
      },
      "outputs": [],
      "source": [
        "#voorbeeld van een tabel met drie kolommen en vijf rijen\n",
        "tabel1_klantid = [1,2,3,4,5]\n",
        "tabel1_klantnaam = ['Henk','Bert','Ernie','Alice','Bob']\n",
        "tabel1_leeftijd = [52,11,12,26,32]\n",
        "\n",
        "#voorbeeld van een tabel met drie kolommen en drie rijen - te koppelen aan de ander met klantid\n",
        "tabel2_orderid = [1,2,3]\n",
        "tabel2_klantid = [3,3,5]\n",
        "tabel2_productnaam = ['wasmachine','stijkijzer','magnetron']"
      ],
      "id": "mHg9FMtnUUft"
    },
    {
      "cell_type": "markdown",
      "metadata": {
        "id": "hsu6aqttUUfu"
      },
      "source": [
        "**De eisen aan jullie tabellen:**\n",
        "\n",
        "1. De (minstens) twee tabellen bevatten significante en bruikbare data conform het entity-relationship model dat bij de casus hoort.\n",
        "2. Iedere tabel heeft minstens 3 kolommen en 8 rijen.\n",
        "3. Minstens één kolom met numerieke waarden (getallen), en minstens één kolom met categorieën (zoals man/vrouw, audi/fiat/BMW/.., etc.)\n",
        "4. Er zijn (minstens twee) tabellen te koppelen, deze hebben dus een gezamenlijke kolom (bijv. een id of datum). De te maken koppeling moet logisch zijn.\n",
        "\n",
        "Opmerkingen:\n",
        "- In werkelijkheid bestaat bedrijfsdata natuurlijk (bijna) altijd uit meer dan 8 rijen (meestal heb je meerder dan 8 klanten, orders, medewerkers, etc.), maar doe alsof het een deel van alle data is.\n",
        "- Als je eigen data gaat bedenken, probeer het realistisch te maken. Zogenaamde \"gesimuleerde\" of \"synthetische data\" gebruikt men vaker om te oefenen of om aan te tonen dat bepaalde oplossingen werken.\n",
        "\n",
        "**Hou het simpel!** Dit is nogal handmatig werk. Het gaat erom dat je minstens twee zinvolle tabellen kan vormgeven, en een Python-list kan aanmaken."
      ],
      "id": "hsu6aqttUUfu"
    },
    {
      "cell_type": "code",
      "execution_count": null,
      "metadata": {
        "id": "vSnFNDZHUUfu"
      },
      "outputs": [],
      "source": [
        "# Vul hieronder jullie eigen tabellen in de vorms van lists:\n",
        "\n",
        "\n"
      ],
      "id": "vSnFNDZHUUfu"
    },
    {
      "cell_type": "code",
      "source": [],
      "metadata": {
        "id": "CvFJIm6s36QC"
      },
      "id": "CvFJIm6s36QC",
      "execution_count": null,
      "outputs": []
    },
    {
      "cell_type": "markdown",
      "metadata": {
        "id": "gnIT91AUUUfu"
      },
      "source": [
        "## Opdracht 3: Je data in een SQL database.\n",
        "We gaan nu de tabellen in een SQL database zetten. **Lees eerst deze opdracht goed door.** Verderop in opdracht 3 staat \"VUL HIER IN\" waar je zelf SQL-code zal moeten schrijven."
      ],
      "id": "gnIT91AUUUfu"
    },
    {
      "cell_type": "markdown",
      "metadata": {
        "id": "wvLfj2PNUUfu"
      },
      "source": [
        "#### **Voor je met SQL kan werken in dit notebook, moet je eerst deze cellen runnen** (je hoeft ze niet te snappen maar uitleg staat er bij):"
      ],
      "id": "wvLfj2PNUUfu"
    },
    {
      "cell_type": "code",
      "execution_count": null,
      "metadata": {
        "id": "66Pd4PPAUUfu"
      },
      "outputs": [],
      "source": [
        "# Dit zijn python packages waarmee python met SQL kan werken\n",
        "import sqlite3\n",
        "import sqlalchemy\n",
        "\n",
        "# Dit is een veel gebruikte python package, vooral de dataframes (soort tabellen) zijn handig\n",
        "import pandas as pd\n",
        "\n",
        "# Onderstaande maakt een database genaamd tijdelijkeDB aan.\n",
        "conn = sqlite3.connect('tijdelijkedDB.db')"
      ],
      "id": "66Pd4PPAUUfu"
    },
    {
      "cell_type": "code",
      "execution_count": null,
      "metadata": {
        "tags": [],
        "id": "FS1-1CCxUUfv"
      },
      "outputs": [],
      "source": [
        "%load_ext sql\n",
        "%sql sqlite:///tijdelijkedDB.db"
      ],
      "id": "FS1-1CCxUUfv"
    },
    {
      "cell_type": "markdown",
      "source": [
        "De cel hierboven zorgt ervoor dat als je een cel begint met %%sql, je met SQL code kan werken (want Notebooks zijn eigenlijk Python)."
      ],
      "metadata": {
        "id": "nJ-XvfIp39dW"
      },
      "id": "nJ-XvfIp39dW"
    },
    {
      "cell_type": "markdown",
      "metadata": {
        "id": "xGz0ZESlUUfv"
      },
      "source": [
        "#### Uitleg en voorbeeld\n",
        "\n",
        "Jullie gaan nu je tabellen invoeren in de database. Kijk eerst naar onderstaande **voorbeeld**. Dit laat de stappen zien hoe een tabel genaamd \"sales\" kan worden:\n",
        "*   aangemaakt (met CREATE TABLE),\n",
        "*   gevuld (met INSERT INTO),\n",
        "*   geraadpleegd (met SELECT)."
      ],
      "id": "xGz0ZESlUUfv"
    },
    {
      "cell_type": "markdown",
      "source": [
        "**Voorbeeld aanmaken tabel \"sales_tabel\" met CREATE TABLE:**"
      ],
      "metadata": {
        "id": "f5ZWD9H5j9bj"
      },
      "id": "f5ZWD9H5j9bj"
    },
    {
      "cell_type": "code",
      "execution_count": null,
      "metadata": {
        "scrolled": true,
        "tags": [],
        "id": "xBuKzN0PUUfv"
      },
      "outputs": [],
      "source": [
        "%%sql\n",
        "CREATE TABLE IF NOT EXISTS sales_tabel(\n",
        "    key       varchar(6),\n",
        "    ts        timestamp,\n",
        "    product   integer,\n",
        "    completed varchar(3),\n",
        "    price     float\n",
        "    );"
      ],
      "id": "xBuKzN0PUUfv"
    },
    {
      "cell_type": "markdown",
      "source": [
        "Bovenstaande maakt de tabel aan, met de kolommen: key / ts / product / completed / price. De tabel heeft nog geen rijen. Die kunnen we met INSERT invoegen."
      ],
      "metadata": {
        "id": "GXJSf_cm_RKI"
      },
      "id": "GXJSf_cm_RKI"
    },
    {
      "cell_type": "markdown",
      "source": [
        "**Voorbeeld vullen tabel \"sales_tabel\" met INSERT INTO:**"
      ],
      "metadata": {
        "id": "GF3tdQ2DkAC_"
      },
      "id": "GF3tdQ2DkAC_"
    },
    {
      "cell_type": "code",
      "source": [
        "%%sql\n",
        "INSERT INTO sales_tabel\n",
        "VALUES ('sale_1', '2019-11-08 00:00', 1, 'Yes', 1.1),\n",
        "       ('sale_2', '2019-11-08 01:00', 1,  'No', 1.2),\n",
        "       ('sale_3', '2019-11-08 01:00', 3, 'Yes', 1.3),\n",
        "       ('sale_4', '2019-11-08 01:00', 2,  'No', 1.4),\n",
        "       ('sale_5', '2019-11-08 02:00', 1, 'Yes', 1.5),\n",
        "       ('sale_6', '2019-11-08 02:00', 1,  'No', 1.5);"
      ],
      "metadata": {
        "id": "irTDB2TgXUt1"
      },
      "id": "irTDB2TgXUt1",
      "execution_count": null,
      "outputs": []
    },
    {
      "cell_type": "markdown",
      "source": [
        "Bovenstaande INSERT zorgt ervoor dat er 6 rijen worden toegevoegd. Je ziet ook 6 rijen terug in de code. Iedere kolom moet je iets voor aanleveren.\n",
        "\n",
        "Een INSERT kan je herhaaldelijk uitvoeren, dan worden er gewoon iedere keer dat aantal rijen aan je tabel toegevoegd.\n",
        "\n",
        "Nu is je tabel ook gevuld. Met SELECT kunnen we die vervolgens opvragen, zoals we kennen."
      ],
      "metadata": {
        "id": "WwWWhEMZ_VuG"
      },
      "id": "WwWWhEMZ_VuG"
    },
    {
      "cell_type": "markdown",
      "source": [
        "**Voorbeeld raadplegen tabel \"sales_tabel\" met SELECT:**"
      ],
      "metadata": {
        "id": "uguoJTh0kEtJ"
      },
      "id": "uguoJTh0kEtJ"
    },
    {
      "cell_type": "code",
      "source": [
        "%%sql\n",
        "SELECT * FROM sales_tabel;"
      ],
      "metadata": {
        "id": "FI8nTiNKXvm0"
      },
      "id": "FI8nTiNKXvm0",
      "execution_count": null,
      "outputs": []
    },
    {
      "cell_type": "markdown",
      "metadata": {
        "id": "4xJ9xO8EUUfw"
      },
      "source": [
        "### Nu voor jullie eigen tabellen:\n",
        "\n",
        "Jullie gaan nu jullie eigen tabellen aanmaken en vullen in SQL. Dit kan met precies dezelfde tabellen als bij opdracht 2.\n",
        "\n",
        "Check ook of je tabellen wel echt te koppelen (joinen) zijn. Je hoeft geen rekening te houden met primary en foreign keys te specificeren (maar nadenken over wat de PK is van een tabel kan helpen in de join-opdracht). **Zorg ervoor dat minstens een van de tabellen numerieke data (getallen) bevat, zodat we hier later mee kunnen gaan rekenen.**\n",
        "\n",
        "**Bonusvraag** (*niet verplicht*, maar wel gewaardeerd): Maak een **koppeltabel** om twee (data-)tabellen te verbinden (join).\n",
        "\n",
        "Note: Het maken van tabellen in een database was geen onderdeel van de lesstof en hier zal je ook niet op beoordeeld worden, maar dit is nodig voor de rest van de opdracht. Kom je er echt niet uit? Vraag dan de docenten om hulp. Zie ook: https://www.w3schools.com/sql/sql_create_table.asp en https://www.w3schools.com/sql/sql_insert.asp"
      ],
      "id": "4xJ9xO8EUUfw"
    },
    {
      "cell_type": "markdown",
      "metadata": {
        "id": "DpBkWjTrUUfw"
      },
      "source": [
        "#### Eerste tabel aanmaken\n",
        "\n",
        "Pas dit aan in de onderstaande (\"CREATE TABLE\") code:\n",
        "- Gebruik jullie eigen tabelnaam in plaats van naam_tabelnaam\n",
        "- Gebruik het juiste aantal kolommen voor jullie tabel. Mogelijk haal je hieronder dus kolommen weg, of voeg je ze toe.\n",
        "- Gebruik jullie eigen kolomnamen.\n",
        "- Gebruik het juiste type voor de kolommen: integer/float voor getallen, varchar(6) voor tekst. (De andere types zijn optioneel.)\n",
        "\n"
      ],
      "id": "DpBkWjTrUUfw"
    },
    {
      "cell_type": "code",
      "execution_count": null,
      "metadata": {
        "id": "zgdinoTnUUfw"
      },
      "outputs": [],
      "source": [
        "%%sql\n",
        "    --- ... PAS DE VOORBEELDCODE HIERONDER AAN\n",
        "\n",
        "CREATE TABLE IF NOT EXISTS jullie_tabelnaam(\n",
        "    voorbeeld_kolom1  varchar(6),\n",
        "    voorbeeld_kolom2  timestamp,\n",
        "    voorbeeld_kolom3  integer,\n",
        "    voorbeeld_kolom4  boolean,\n",
        "    voorbeeld_kolom5  float\n",
        "\n",
        "    --- ... PAS DE VOORBEELDCODE HIERBOVEN AAN\n",
        ");"
      ],
      "id": "zgdinoTnUUfw"
    },
    {
      "cell_type": "markdown",
      "source": [
        "Extra informatie: Wil je een tabel wissen, zodat je deze opnieuw kan aanmaken? Voer uit: DROP TABLE en de naam van de tabel. Zie hieronder:"
      ],
      "metadata": {
        "id": "WkwCzpLDC_ls"
      },
      "id": "WkwCzpLDC_ls"
    },
    {
      "cell_type": "code",
      "source": [
        "%%sql\n",
        "DROP TABLE kies_hier_tabelnaam;"
      ],
      "metadata": {
        "id": "8BMq4XtzC7yb"
      },
      "id": "8BMq4XtzC7yb",
      "execution_count": null,
      "outputs": []
    },
    {
      "cell_type": "markdown",
      "source": [
        "#### Eerste tabel vullen\n",
        "\n",
        "Vul jullie tabel nu, door de voorbeeldcode hieronder aan te passen.\n",
        "*   Mogelijk hebben jullie een ander aantal kolommen dan 5 zoals in het voorbeeld, pas dat dan aan uiteraard.\n",
        "*   Waarschijnlijk hebben jullie méér dan 2 rijen data, voeg die rijen toe. Let op dat de laatste rij géén komma na het laatste haakje heeft.\n",
        "*   Gebruik dezelfde data als bij opdracht 2."
      ],
      "metadata": {
        "id": "mjush7cp8IXh"
      },
      "id": "mjush7cp8IXh"
    },
    {
      "cell_type": "code",
      "execution_count": null,
      "metadata": {
        "id": "o22g6V4PUUfx"
      },
      "outputs": [],
      "source": [
        "%%sql\n",
        "    --- ... PAS DE VOORBEELDCODE HIERONDER AAN\n",
        "\n",
        "INSERT INTO jullie_tabelnaam\n",
        "VALUES ('sale_1', '2019-11-08 00:00', 1, 'Yes', 1.1),\n",
        "       ('sale_2', '2019-11-08 01:00', 1,  'No', 1.2)\n",
        "\n",
        "\n",
        "    --- ... PAS DE VOORBEELDCODE HIERBOVEN AAN\n",
        "       ;\n"
      ],
      "id": "o22g6V4PUUfx"
    },
    {
      "cell_type": "markdown",
      "metadata": {
        "id": "yNCtIWP_UUfx"
      },
      "source": [
        "#### Tweede tabel aanmaken en vullen\n",
        "\n",
        "Doe hetzelfde als hierboven, maar dan voor de 2e tabel."
      ],
      "id": "yNCtIWP_UUfx"
    },
    {
      "cell_type": "code",
      "execution_count": null,
      "metadata": {
        "id": "-gvHTJRDUUfx"
      },
      "outputs": [],
      "source": [
        "%%sql\n",
        "CREATE TABLE IF NOT EXISTS naam_tabelnaam2(\n",
        "\n",
        "-- ... VUL HIER ZELF IN\n",
        "\n",
        ");"
      ],
      "id": "-gvHTJRDUUfx"
    },
    {
      "cell_type": "code",
      "execution_count": null,
      "metadata": {
        "id": "8UYhSKMgUUfx"
      },
      "outputs": [],
      "source": [
        "%%sql\n",
        "INSERT INTO naam_tabelnaam2\n",
        "VALUES\n",
        "\n",
        "--- ... VUL HIER ZELF IN\n",
        "\n",
        "      ;"
      ],
      "id": "8UYhSKMgUUfx"
    },
    {
      "cell_type": "markdown",
      "source": [
        "#### **Bonusvraag** (*niet verplicht*, maar wel gewaardeerd): koppeltabel aanmaken en vullen\n",
        "\n",
        "Doe hetzelfde als hierboven, maar dan voor de koppeltabel.\n",
        "\n"
      ],
      "metadata": {
        "id": "DwRNAMnIScJq"
      },
      "id": "DwRNAMnIScJq"
    },
    {
      "cell_type": "code",
      "source": [
        "%%sql\n",
        "CREATE TABLE IF NOT EXISTS naam_tabelnaam3(\n",
        "\n",
        "-- ... VUL HIER ZELF IN\n",
        "\n",
        ");"
      ],
      "metadata": {
        "id": "chI3Yfq3Tvze"
      },
      "id": "chI3Yfq3Tvze",
      "execution_count": null,
      "outputs": []
    },
    {
      "cell_type": "code",
      "source": [
        "%%sql\n",
        "INSERT INTO naam_tabelnaam3\n",
        "VALUES\n",
        "\n",
        "--- ... VUL HIER ZELF IN\n",
        "\n",
        "      ;"
      ],
      "metadata": {
        "id": "r6XwcVdJT4Ca"
      },
      "id": "r6XwcVdJT4Ca",
      "execution_count": null,
      "outputs": []
    },
    {
      "cell_type": "markdown",
      "metadata": {
        "id": "ThAf485BUUfx"
      },
      "source": [
        "## Opdracht 4: SQL JOIN [CODE]"
      ],
      "id": "ThAf485BUUfx"
    },
    {
      "cell_type": "markdown",
      "metadata": {
        "id": "0MDgUIyrUUfx"
      },
      "source": [
        "Vul hieronder het SQL statement in om de tabellen aan elkaar te koppelen (een join maken). Je mag alle kolommen tonen, en hoeft geen speciale join te gebruiken (zoals inner/outer/left etc.)\n",
        "\n",
        "Zorg dat je code werkt zonder errors, én dat je een zinnige join maakt (dus niet klantnummer op ordernummer gaan kopellen, maar wel klantnummer in tabelA op klantnummer uit tabelB).\n",
        "\n",
        "**Bonusvraag** (*niet verplicht*, maar wel gewaardeerd):  Gebruik de aangemaakte **koppeltabel** om twee (data-)tabellen te verbinden voor de join-bewerking."
      ],
      "id": "0MDgUIyrUUfx"
    },
    {
      "cell_type": "code",
      "execution_count": null,
      "metadata": {
        "id": "npPTCynzUUfx"
      },
      "outputs": [],
      "source": [
        "%%sql\n",
        "--- ... SCHRIJF HIER JULLIE SQL-QUERY\n",
        "\n"
      ],
      "id": "npPTCynzUUfx"
    },
    {
      "cell_type": "markdown",
      "metadata": {
        "id": "ttHAWHj0UUfy"
      },
      "source": [
        "## Opdracht 5: Uitleg bij JOIN"
      ],
      "id": "ttHAWHj0UUfy"
    },
    {
      "cell_type": "markdown",
      "metadata": {
        "id": "KA9XilCkUUfy"
      },
      "source": [
        "Kijk naar wat er uit de query hierboven komt. Zorgt de koppeling ervoor dat er informatie wegvalt die wel in de originele tabellen stond? Zo ja, is dat een probleem of is daar een goede reden voor te geven? Zo nee, zou dat bij (meer) realistische data ook het geval zijn, dat er geen data wegvalt? Beschrijf ook als er informatie gedupliceerd wordt door je JOIN wat daar de reden voor is."
      ],
      "id": "KA9XilCkUUfy"
    },
    {
      "cell_type": "markdown",
      "metadata": {
        "id": "4KPUpqBhUUfy"
      },
      "source": [
        "*... [Vul hier jullie antwoord(en) in] ...*"
      ],
      "id": "4KPUpqBhUUfy"
    },
    {
      "cell_type": "markdown",
      "metadata": {
        "id": "iDNuiM77UUfy"
      },
      "source": [
        "## Opdracht 6: SQL groeperen op catagorie [CODE]"
      ],
      "id": "iDNuiM77UUfy"
    },
    {
      "cell_type": "markdown",
      "metadata": {
        "id": "fof-6l0WUUfy"
      },
      "source": [
        "Schrijf een SQL-satement waarmee je groepeert per categorie, en laat per categorie een interessante numerieke waarde zien. Bijvoorbeeld, als je een tabel met autos hebt, geef per automerk de gemiddelde prijs.\n",
        "\n",
        "Dit mag op één van de originele tabellen, of op de gejoinde tabel.\n",
        "\n",
        "Geef kort aan waarom die numerieke waarde interessant is in een business-context.\n",
        "\n",
        "\n",
        "\n"
      ],
      "id": "fof-6l0WUUfy"
    },
    {
      "cell_type": "code",
      "execution_count": null,
      "metadata": {
        "id": "k50bpqCIUUfy"
      },
      "outputs": [],
      "source": [
        "%%sql\n",
        "--- ... SCHRIJF HIER JULLIE SQL-QUERY\n"
      ],
      "id": "k50bpqCIUUfy"
    },
    {
      "cell_type": "markdown",
      "source": [
        "*...[Licht hier toe waarom de numerieke waarde interessant is in een business-context]...*"
      ],
      "metadata": {
        "id": "sAGm296zCZj4"
      },
      "id": "sAGm296zCZj4"
    },
    {
      "cell_type": "markdown",
      "metadata": {
        "tags": [],
        "id": "raO1z18IUUfz"
      },
      "source": [
        "## Opdracht 7: Python werken met lists [CODE]"
      ],
      "id": "raO1z18IUUfz"
    },
    {
      "cell_type": "markdown",
      "metadata": {
        "id": "Q_rAmO8KUUfz"
      },
      "source": [
        "In opdracht 2 heb je je tabellen als verschillende 'lists' beschreven. Bijvoorbeeld de lijsten tabel1_klantid, tabel1_leeftlijd, etc.\n",
        "\n",
        "**Voeg met behulp van *Python* code een nieuwe rij toe aan alle lists die één tabel vormen.**\n",
        "\n",
        "Iedere list moet dus één extra element krijgen."
      ],
      "id": "Q_rAmO8KUUfz"
    },
    {
      "cell_type": "code",
      "execution_count": null,
      "metadata": {
        "tags": [],
        "id": "m9_6goCxUUfz"
      },
      "outputs": [],
      "source": [
        "# SCHRIJF HIERONDER DE PYTHON CODE VOOR DEZE OPDRACHT\n"
      ],
      "id": "m9_6goCxUUfz"
    },
    {
      "cell_type": "markdown",
      "metadata": {
        "id": "euNBIJlAUUfz"
      },
      "source": [
        "## Opdracht 8: Python for-loop [CODE]\n",
        "\n",
        "Schrijf Python code die, met behulp van een for-loop, de maximale waarde in een lijst kan vinden. Print deze maximale waarde vervolgens als onderdeel van  een zin.\n",
        "\n",
        "*Bijvoorbeeld: als de lijst [15,38,51,23] is, zou je code iets moeten printen als \"De hoogste waarde is 51\".*\n",
        "\n",
        "Gebruik als lijst de lijst met numerieke waarde uit opdracht 2."
      ],
      "id": "euNBIJlAUUfz"
    },
    {
      "cell_type": "code",
      "execution_count": null,
      "metadata": {
        "tags": [],
        "id": "OysoncNEUUfz"
      },
      "outputs": [],
      "source": [
        "# SCHRIJF HIERONDER DE PYTHON CODE VOOR DEZE OPDRACHT\n"
      ],
      "id": "OysoncNEUUfz"
    },
    {
      "cell_type": "markdown",
      "metadata": {
        "id": "ju0FOrRWUUfz"
      },
      "source": [
        "## Opdracht 9: Python sorteren [CODE]"
      ],
      "id": "ju0FOrRWUUfz"
    },
    {
      "cell_type": "markdown",
      "metadata": {
        "id": "3m-XAXWWUUfz"
      },
      "source": [
        "We gebruiken opnieuw de lijst met numerieke waarden uit opdracht 2.\n",
        "\n",
        "Schrijf Python code die:\n",
        "*   Een gesorteerde lijst maakt **van groot naar klein** *(zonder .sort() te gebruiken!)*. Tip: maak een nieuwe lijst aan i.p.v. de originele te hersorteren.\n",
        "*   Deze gesorteerde lijst vervolgens print."
      ],
      "id": "3m-XAXWWUUfz"
    },
    {
      "cell_type": "code",
      "execution_count": null,
      "metadata": {
        "id": "1fAnQkxqUUf0"
      },
      "outputs": [],
      "source": [
        "# SCHRIJF HIERONDER DE PYTHON CODE VOOR DEZE OPDRACHT\n"
      ],
      "id": "1fAnQkxqUUf0"
    },
    {
      "cell_type": "markdown",
      "source": [
        "# Opdracht 10: Gemiddelde [CODE]\n",
        "\n",
        "Voor een BI dashboard willen we graag wat basis-statistieken berekenen voor een verzameling data. We beginnen met het gemiddelde. Maak onderstaande functie af."
      ],
      "metadata": {
        "id": "zkoYYONIhzUJ"
      },
      "id": "zkoYYONIhzUJ"
    },
    {
      "cell_type": "code",
      "source": [
        "# SCHRIJF HIERONDER DE PYTHON CODE VOOR DEZE OPDRACHT\n",
        "\n",
        "def average(vals):\n",
        "    # Schrijf hier de code voor het uitvoerende deel van de functie\n",
        "    return"
      ],
      "metadata": {
        "id": "M6p-HOsWhyY6"
      },
      "id": "M6p-HOsWhyY6",
      "execution_count": null,
      "outputs": []
    },
    {
      "cell_type": "markdown",
      "source": [
        "# Opdracht 11: Mediaan [CODE]\n",
        "Een andere zinvolle maat is de mediaan - de middelste waarde nadata we de **lijst sorteren**. Als het midden tussen twee waardes valt, dan nemen we het gemiddelde van de middelste twee waardes.\n",
        "\n",
        "De mediaan is zinvol omdat deze minder gevoelig is voor uitschieters - een gemiddelde waarde kan erg naar boven of beneden worden getrokken door een het toevoegen van een enkele waarde, alss deze extreem groot of klein is. De mediaan blijft in dit soort gevallen meer stabiel.\n",
        "\n",
        "Schrijf zelf een functie `median(...)` om de mediaan te berekenen. Tip: we hebben in de lessen gezien hoe je met een index een waarde uit een lijst kan opvragen. Met de functie `len(...)` kun je de lengte van een lijst opvragen."
      ],
      "metadata": {
        "id": "VXVIXXRciQEB"
      },
      "id": "VXVIXXRciQEB"
    },
    {
      "cell_type": "code",
      "source": [
        "# SCHRIJF HIERONDER DE PYTHON CODE VOOR DEZE OPDRACHT\n"
      ],
      "metadata": {
        "id": "0ODl5PPjiduM"
      },
      "id": "0ODl5PPjiduM",
      "execution_count": null,
      "outputs": []
    },
    {
      "cell_type": "markdown",
      "source": [
        "# Opdracht 12: Kwartielen [CODE]\n",
        "Met de mediaan heb je een goed beeld van het middelpunt van een reeks waardes, maar weet je nog niets van de spreiding.\n",
        "\n",
        "Bijvoorbeeld: de mediaan van de kwartaal-omzet is 20K. Dit kan betekenen dat de omzet ieder kwartaal (vrijwel) exact 20K is, of dat deze regelmatig 0 is, maar ook regelmatig hoger dan 20K. Beide scenario's vragen een verschillende aanpak, dus het loont om dit verschil inzichtelijk te maken.\n",
        "\n",
        "Een manier om dit te doen is de zogenaamde kwartielen te berekenen. Het eerste kwartiel is de mediaan van de eerste helft van de *(gesorteerde)* lijst, en het derde kwartiel is de mediaan van de tweede helft van de *(gesorteerde)* lijst.\n",
        "\n",
        "Samen met het tweede kwartiel (de mediaan zelf) en de minimale / maximale waardes geeft dit een goed beeld van hoe de datapunten verspreid zijn.\n",
        "\n",
        "Schrijf zelf de functies `q1(...)` en `q3(...)` voor het eerste en derde kwartiel."
      ],
      "metadata": {
        "id": "oatOYggXie0E"
      },
      "id": "oatOYggXie0E"
    },
    {
      "cell_type": "code",
      "source": [
        "# SCHRIJF HIERONDER DE PYTHON CODE VOOR DEZE OPDRACHT\n"
      ],
      "metadata": {
        "id": "jJt5-2dtl22x"
      },
      "id": "jJt5-2dtl22x",
      "execution_count": null,
      "outputs": []
    },
    {
      "cell_type": "markdown",
      "source": [
        "# Opdracht 13: Plot eigen data [CODE]\n",
        "Kies een numerieke kolom in je eigen data. Pas de code aan met jouw eigen SQL query. Als het goed is wordt je data in een box-en-whisker-plot weergegeven. Probeer te beschrijven wat de plot over de data laat zien."
      ],
      "metadata": {
        "id": "gE-zT2IAl2Gt"
      },
      "id": "gE-zT2IAl2Gt"
    },
    {
      "cell_type": "code",
      "source": [
        "# Vul hieronder bij result de SQL code in die slaat op jullie eigen data-tabellen:\n",
        "\n",
        "import matplotlib.pyplot as plt\n",
        "result = %sql SELECT price FROM sales_tabel; # <--- Pas dit aan!\n",
        "data = [x[0] for x in result]\n",
        "\n",
        "fig, ax = plt.subplots()\n",
        "boxes = [{'whislo': min(data), 'q1': q1(data), 'med': median(data), 'q3': q3(data), 'whishi': max(data) }]\n",
        "ax.bxp(boxes, showfliers=False)\n",
        "plt.show()"
      ],
      "metadata": {
        "id": "MRCTfttmrJ0Y"
      },
      "id": "MRCTfttmrJ0Y",
      "execution_count": null,
      "outputs": []
    },
    {
      "cell_type": "markdown",
      "source": [
        "*... [Vul hier jullie antwoord(en) in] ...*"
      ],
      "metadata": {
        "id": "GUCIp8JT8UvR"
      },
      "id": "GUCIp8JT8UvR"
    },
    {
      "cell_type": "markdown",
      "metadata": {
        "id": "6VI3kY82UUf0"
      },
      "source": [
        "## Opdracht 14: Business Intelligence in jullie casus"
      ],
      "id": "6VI3kY82UUf0"
    },
    {
      "cell_type": "markdown",
      "metadata": {
        "id": "-MuLGRDPUUf0"
      },
      "source": [
        "Wat voor BI-inzichten zouden interessant zijn in jullie casus? Doe deze opdracht aan de hand van deze drie stappen:\n",
        "\n",
        "*    Beschrijf voor **wie** BI hier iets kan bijdragen (bijv. een manager, of iemand als een planner/adviseur).\n",
        "\n",
        "*    Formuleer de *business* **vraag** die met BI beantwoord kan worden.\n",
        "\n",
        "*    **Hoe zou dat eruit zien**: Beschrijf één KPI (een nuttig getal) of één visualisatie (nuttige grafiek/kaart/etc). **Wees concreet**: Hoe komt die KPI/visualisatie tot stand? Op basis van welke kolommen uit jullie tabellen?\n",
        "\n",
        "*Je mag ook een afbeelding inleveren bij het laatste punt (of in dit notebook, of als bijlage op gradeworks).*"
      ],
      "id": "-MuLGRDPUUf0"
    },
    {
      "cell_type": "markdown",
      "source": [
        "*... [Vul hier jullie antwoord(en) in] ...*"
      ],
      "metadata": {
        "id": "jyCtmmegO0UP"
      },
      "id": "jyCtmmegO0UP"
    },
    {
      "cell_type": "markdown",
      "metadata": {
        "id": "jZ1J75_SUUf0"
      },
      "source": [
        "## Opdracht 15: Data Science algemeen"
      ],
      "id": "jZ1J75_SUUf0"
    },
    {
      "cell_type": "markdown",
      "metadata": {
        "id": "Ks81EAoeUUf0"
      },
      "source": [
        "Leg in jullie eigen woorden uit wat classificatie, regressie en clustering is en geef van alle drie een voorbeeld."
      ],
      "id": "Ks81EAoeUUf0"
    },
    {
      "cell_type": "markdown",
      "metadata": {
        "id": "HqPvCzJTUUf0"
      },
      "source": [
        "*... [Vul hier jullie antwoord(en) in] ...*"
      ],
      "id": "HqPvCzJTUUf0"
    },
    {
      "cell_type": "markdown",
      "metadata": {
        "id": "QML8LtevUUf0"
      },
      "source": [
        "## Opdracht 16: Data Science in jullie casus\n",
        "\n",
        "Is er een data science toepassing te bedenken op basis van jullie tabellen (als ze meer rijen hadden)? Bijvoorbeeld het voorspellen van een waarde/categorie, of groeperen (clusteren) op een manier die mogelijk nuttige inzichten geeft.\n",
        "\n",
        "*   Zo ja, beschrijf deze toepassing en leg uit welk type model (classificatie, regressie of clustering) gebruikt kan worden.\n",
        "\n",
        "*   Zo nee, wat voor extra data (kolommen, of extra tabellen) zouden verzameld kunnen worden om wél een data science aanpak mogelijk te maken? Beschrijf vervolgens die mogelijke aanpak en leg uit welk type model (classificatie, regressie of clustering) nu gebruikt zou worden."
      ],
      "id": "QML8LtevUUf0"
    },
    {
      "cell_type": "markdown",
      "metadata": {
        "id": "XIL-sHWoUUf1"
      },
      "source": [
        "*... [Vul hier jullie antwoord(en) in] ...*"
      ],
      "id": "XIL-sHWoUUf1"
    },
    {
      "cell_type": "markdown",
      "metadata": {
        "id": "yOsgUc7RUUf1"
      },
      "source": [
        "## Reflectie/samenwerking\n",
        "\n",
        "Beschrijf hieronder kort hoe de samenwerking binnen het groepje geweest is."
      ],
      "id": "yOsgUc7RUUf1"
    },
    {
      "cell_type": "markdown",
      "source": [
        "*... [Vul hier jullie antwoord(en) in] ...*"
      ],
      "metadata": {
        "id": "sdbxQN7RO9df"
      },
      "id": "sdbxQN7RO9df"
    },
    {
      "cell_type": "markdown",
      "metadata": {
        "id": "dtNm9a85UUf1"
      },
      "source": [
        "## Inleverinstructies"
      ],
      "id": "dtNm9a85UUf1"
    },
    {
      "cell_type": "markdown",
      "metadata": {
        "id": "BHWVttEbUUf1"
      },
      "source": [
        "Als je klaar bent, sla het notebook op voor de zekerheid (ctrl+s of file-->'Save'). Download daarna het notebook via het menu linksboven (file-->'Download'-->'Download .ipynb'),\n",
        "\n",
        "**Inleveren**: Het uitgewerkte Jupyter Notebook (het .ipynb bestand) lever je **voor 20 oktober 23:59** op **Gradework** in. Let op dat je dus echt een **.ipynb** bestand inlevert. Let op dat je je groepsleden ook noemt in dit notebook."
      ],
      "id": "BHWVttEbUUf1"
    },
    {
      "cell_type": "markdown",
      "source": [
        "## Vragen / Veel voorkomende fouten\n",
        "\n",
        "**V:** Ik Krijg \"UsageError: Cell magic `%%sql` not found\".\n",
        "\n",
        "**A:** Voer de code-cellen uit aan het begin van opdracht 3. Dit moet iedere keer als je het notebook herstart. Ook moet je je tabellen opnieuw aanmaken/vullen met de code die je (mogelijk) al hebt klaarstaan.\n",
        "\n",
        "**V:** Ik krijg steeds syntax-fouten bij het SQL deel.\n",
        "\n",
        "**A:** Let goed op dat je wel in een cel werkt die met %%sql begint. Daarnaast is het soms goed letten op haakjes en komma's...\n"
      ],
      "metadata": {
        "id": "VTj3olwg5Yu_"
      },
      "id": "VTj3olwg5Yu_"
    }
  ],
  "metadata": {
    "kernelspec": {
      "display_name": "Python 3",
      "language": "python",
      "name": "python3"
    },
    "language_info": {
      "codemirror_mode": {
        "name": "ipython",
        "version": 3
      },
      "file_extension": ".py",
      "mimetype": "text/x-python",
      "name": "python",
      "nbconvert_exporter": "python",
      "pygments_lexer": "ipython3",
      "version": "3.8.6"
    },
    "colab": {
      "provenance": [],
      "include_colab_link": true
    }
  },
  "nbformat": 4,
  "nbformat_minor": 5
}